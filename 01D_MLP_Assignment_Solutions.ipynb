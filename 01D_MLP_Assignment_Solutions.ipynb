{
 "cells": [
  {
   "cell_type": "markdown",
   "metadata": {},
   "source": [
    "# TensorFlow Assignment: Multi-Layer Perceptron (MLP)"
   ]
  },
  {
   "cell_type": "markdown",
   "metadata": {},
   "source": [
    "**[Duke Community Standard](http://integrity.duke.edu/standard.html): By typing your name below, you are certifying that you have adhered to the Duke Community Standard in completing this assignment.**\n",
    "\n",
    "Name: Alex Lew"
   ]
  },
  {
   "cell_type": "markdown",
   "metadata": {},
   "source": [
    "### Multi-layer Perceptron\n",
    "\n",
    "Build a 2-layer MLP for MNIST digit classfication. Feel free to play around with the model architecture and see how the training time/performance changes, but to begin, try the following:\n",
    "\n",
    "Image (784 dimensions) -> fully connected layer (500 hidden units)  -> nonlinearity (ReLU) -> fully connected layer (100 hidden units) -> nonlinearity (ReLU) -> fully connected (10 hidden units) -> softmax"
   ]
  },
  {
   "cell_type": "code",
   "execution_count": 4,
   "metadata": {},
   "outputs": [
    {
     "name": "stdout",
     "output_type": "stream",
     "text": [
      "Extracting MNIST_data/train-images-idx3-ubyte.gz\n",
      "Extracting MNIST_data/train-labels-idx1-ubyte.gz\n",
      "Extracting MNIST_data/t10k-images-idx3-ubyte.gz\n",
      "Extracting MNIST_data/t10k-labels-idx1-ubyte.gz\n",
      "Iter 0 loss = 2.26909 acc = 0.22\n",
      "Iter 1000 loss = 0.131382 acc = 0.96\n",
      "Iter 2000 loss = 0.0734596 acc = 1.0\n",
      "Final accuracy on test set:\n",
      "0.9609\n"
     ]
    }
   ],
   "source": [
    "import tensorflow as tf\n",
    "from tensorflow.examples.tutorials.mnist import input_data\n",
    "mnist = input_data.read_data_sets('MNIST_data', one_hot=True)\n",
    "\n",
    "tf.reset_default_graph()\n",
    "\n",
    "# Variables\n",
    "W1 = tf.Variable(tf.truncated_normal([784, 500], stddev=0.1))\n",
    "b1 = tf.Variable(tf.zeros([500]))\n",
    "W2 = tf.Variable(tf.truncated_normal([500, 100], stddev=0.1))\n",
    "b2 = tf.Variable(tf.zeros([100]))\n",
    "W3 = tf.Variable(tf.truncated_normal([100, 10], stddev=0.1))\n",
    "b3 = tf.Variable(tf.zeros([10]))\n",
    "\n",
    "# Placeholders\n",
    "X = tf.placeholder(tf.float32, [None, 784])\n",
    "y = tf.placeholder(tf.float32, [None, 10])\n",
    "\n",
    "# MLP\n",
    "h1 = tf.nn.relu(tf.matmul(X,  W1) + b1)\n",
    "h2 = tf.nn.relu(tf.matmul(h1, W2) + b2)\n",
    "scores = tf.matmul(h2, W3) + b3\n",
    "\n",
    "# Loss and optimization\n",
    "loss = tf.reduce_mean(tf.nn.softmax_cross_entropy_with_logits(logits=scores, labels=y))\n",
    "train_one_step = tf.train.GradientDescentOptimizer(0.05).minimize(loss)\n",
    "\n",
    "# Accuracy\n",
    "correct_predictions = tf.equal(tf.argmax(scores, axis=1), tf.argmax(y, axis=1))\n",
    "accuracy = tf.reduce_mean(tf.cast(correct_predictions, tf.float32))\n",
    "\n",
    "# Initialization\n",
    "init = tf.global_variables_initializer()\n",
    "\n",
    "# Training\n",
    "sess = tf.Session()\n",
    "sess.run(init)\n",
    "for i in range(3000):\n",
    "    X_batch, y_batch = mnist.train.next_batch(50)\n",
    "    sess.run(train_one_step, feed_dict={X: X_batch, y: y_batch})\n",
    "    if i % 1000 == 0:\n",
    "        training_loss, training_acc = sess.run([loss, accuracy], feed_dict={X: X_batch, y: y_batch})\n",
    "        print(\"Iter\", i, \"loss =\", training_loss, \"acc =\", training_acc)\n",
    "\n",
    "# Make sure to print out your accuracy on the test set at the end.\n",
    "print(\"Final accuracy on test set:\")\n",
    "print(sess.run(accuracy, feed_dict={X: mnist.test.images, y: mnist.test.labels}))"
   ]
  },
  {
   "cell_type": "code",
   "execution_count": null,
   "metadata": {},
   "outputs": [],
   "source": []
  }
 ],
 "metadata": {
  "kernelspec": {
   "display_name": "Python 3",
   "language": "python",
   "name": "python3"
  },
  "language_info": {
   "codemirror_mode": {
    "name": "ipython",
    "version": 3
   },
   "file_extension": ".py",
   "mimetype": "text/x-python",
   "name": "python",
   "nbconvert_exporter": "python",
   "pygments_lexer": "ipython3",
   "version": "3.6.1"
  }
 },
 "nbformat": 4,
 "nbformat_minor": 2
}
